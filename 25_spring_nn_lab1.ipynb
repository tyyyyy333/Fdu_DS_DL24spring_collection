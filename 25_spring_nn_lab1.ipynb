{
 "cells": [
  {
   "cell_type": "code",
   "execution_count": 59,
   "metadata": {},
   "outputs": [],
   "source": [
    "import time\n",
    "import torch\n",
    "import torchvision\n",
    "import sklearn\n",
    "import PIL\n",
    "import numpy as np\n",
    "import matplotlib.pyplot as plt\n",
    "\n",
    "from PIL import Image\n",
    "from torch.utils.data import DataLoader, Dataset\n",
    "from torchvision import transforms\n",
    "from sklearn.model_selection import train_test_split\n",
    "from sklearn.metrics import mean_squared_error as mse\n",
    "from sklearn.metrics import mean_absolute_error as mae\n",
    "from sklearn.metrics import accuracy_score as acc"
   ]
  },
  {
   "cell_type": "code",
   "execution_count": 60,
   "metadata": {},
   "outputs": [],
   "source": [
    "def create_data(low, high, data_size,type='int', is_np=True):\n",
    "    if type == 'int':\n",
    "        data = np.random.randint(low, high, data_size)\n",
    "    elif type == 'float':\n",
    "        data = np.random.uniform(low, high, data_size)\n",
    "    elif type == 'complex':\n",
    "        data = np.random.uniform(low, high, data_size) + 1j*np.random.uniform(low, high, data_size)\n",
    "        return data\n",
    "    \n",
    "    if not is_np:\n",
    "        return list(data)\n",
    "    return data"
   ]
  },
  {
   "cell_type": "code",
   "execution_count": 61,
   "metadata": {},
   "outputs": [],
   "source": [
    "datasize = (10,)"
   ]
  },
  {
   "cell_type": "markdown",
   "metadata": {},
   "source": [
    "### Q1"
   ]
  },
  {
   "cell_type": "code",
   "execution_count": 57,
   "metadata": {},
   "outputs": [
    {
     "data": {
      "text/plain": [
       "array([0.98523904, 0.15249019, 0.04938501, 0.37874557, 0.94711505,\n",
       "       0.63100991, 0.55057706, 0.37195881, 0.60554359, 0.17990259])"
      ]
     },
     "execution_count": 57,
     "metadata": {},
     "output_type": "execute_result"
    }
   ],
   "source": [
    "def sum_(data):\n",
    "    assert np.array(data).ndim == 1, \"data must be 1-dimentional array\"\n",
    "    # return np.sum(data)\n",
    "    _sum_ = 0\n",
    "    for i in data:\n",
    "        _sum_ += i\n",
    "    return _sum_\n",
    "    \n",
    "\n",
    "data = create_data(0, 1, datasize, type='float')\n",
    "data"
   ]
  },
  {
   "cell_type": "code",
   "execution_count": 6,
   "metadata": {},
   "outputs": [
    {
     "name": "stdout",
     "output_type": "stream",
     "text": [
      "5.25336447790661\n",
      "5.25336447790661\n"
     ]
    }
   ],
   "source": [
    "print(sum_(data))\n",
    "print(np.sum(data))"
   ]
  },
  {
   "cell_type": "markdown",
   "metadata": {},
   "source": [
    "### Q2"
   ]
  },
  {
   "cell_type": "code",
   "execution_count": 7,
   "metadata": {},
   "outputs": [
    {
     "name": "stdout",
     "output_type": "stream",
     "text": [
      "[0, 3, 4, 5, 6, 8, 9]\n",
      "[0, 3, 3, 4, 5, 6, 6, 6, 8, 9]\n"
     ]
    }
   ],
   "source": [
    "def settify(data):\n",
    "    return list(set(data))\n",
    "\n",
    "data = create_data(0, 10, datasize, type='int')\n",
    "\n",
    "print(sorted(settify(data)))\n",
    "print(sorted(data))"
   ]
  },
  {
   "cell_type": "markdown",
   "metadata": {},
   "source": [
    "### Q3"
   ]
  },
  {
   "cell_type": "code",
   "execution_count": 8,
   "metadata": {},
   "outputs": [
    {
     "name": "stdout",
     "output_type": "stream",
     "text": [
      "madam True\n",
      "nurses run True\n",
      " a a a as s sb  False\n",
      "  a  bc   b  a   True\n"
     ]
    }
   ],
   "source": [
    "def check_palindrome(words):\n",
    "    # we assume that words is a string,and each word is a lower word\n",
    "    assert words == words.lower(), \"words must be a lower word\"\n",
    "    words = words.split(' ')\n",
    "    words = ''.join(words)\n",
    "    \n",
    "    return words == words[::-1]\n",
    "\n",
    "samples = ['madam','nurses run', ' a a a as s sb ', '  a  bc   b  a  ']\n",
    "\n",
    "for sample in samples:\n",
    "    print(sample, check_palindrome(sample))"
   ]
  },
  {
   "cell_type": "markdown",
   "metadata": {},
   "source": [
    "### Q4"
   ]
  },
  {
   "cell_type": "code",
   "execution_count": 17,
   "metadata": {},
   "outputs": [
    {
     "name": "stdout",
     "output_type": "stream",
     "text": [
      "[0.59547035+0.47771177j 0.35880004+0.71799496j 0.14164719+0.48051938j\n",
      " 0.28950193+0.68940753j 0.56801159+0.46479811j 0.08294228+0.85067877j\n",
      " 0.01300982+0.12763018j 0.37549551+0.65587332j 0.90875417+0.81476913j\n",
      " 0.8562367 +0.97846783j]\n"
     ]
    },
    {
     "data": {
      "text/plain": [
       "array([[0.59547035, 0.47771177],\n",
       "       [0.35880004, 0.71799496],\n",
       "       [0.14164719, 0.48051938],\n",
       "       [0.28950193, 0.68940753],\n",
       "       [0.56801159, 0.46479811],\n",
       "       [0.08294228, 0.85067877],\n",
       "       [0.01300982, 0.12763018],\n",
       "       [0.37549551, 0.65587332],\n",
       "       [0.90875417, 0.81476913],\n",
       "       [0.8562367 , 0.97846783]])"
      ]
     },
     "execution_count": 17,
     "metadata": {},
     "output_type": "execute_result"
    }
   ],
   "source": [
    "data = create_data(0, 1, datasize, type='complex')\n",
    "print(data)\n",
    "np.array(list(zip(data.real,data.imag)))"
   ]
  },
  {
   "cell_type": "markdown",
   "metadata": {},
   "source": [
    "### Q5"
   ]
  },
  {
   "cell_type": "code",
   "execution_count": null,
   "metadata": {},
   "outputs": [
    {
     "name": "stdout",
     "output_type": "stream",
     "text": [
      "110\n"
     ]
    }
   ],
   "source": [
    "data = ('12','21')\n",
    "# 转10再操作\n",
    "def add_ternary(data):\n",
    "    sum_ = sum(int(num, 3) for num in data)\n",
    "    # print(sum_)\n",
    "    \n",
    "    if sum_ == 0:\n",
    "        return \"0\"\n",
    "    \n",
    "    output = \"\"\n",
    "    while sum_ > 0:\n",
    "        output = str(sum_ % 3) + output\n",
    "        sum_ //= 3\n",
    "    \n",
    "    return output\n",
    "\n",
    "print(add_ternary(data))"
   ]
  },
  {
   "cell_type": "markdown",
   "metadata": {},
   "source": [
    "### Q6"
   ]
  },
  {
   "cell_type": "code",
   "execution_count": 58,
   "metadata": {},
   "outputs": [
    {
     "name": "stdout",
     "output_type": "stream",
     "text": [
      "7 -> 0 -> 8\n",
      "\n"
     ]
    }
   ],
   "source": [
    "\n",
    "class ListNode:\n",
    "    def __init__(self,x):\n",
    "        self.val=x\n",
    "        self.next=None\n",
    "        \n",
    "def make_link(data):\n",
    "    assert len(data) > 0, \"data must be non-empty\"\n",
    "    \n",
    "    if len(data) == 1:\n",
    "        return ListNode(data[0])\n",
    "    \n",
    "    head = ListNode(data[0])\n",
    "    cur = head\n",
    "    for i in data[1:-1]:\n",
    "        cur.next = ListNode(i)\n",
    "        cur = cur.next\n",
    "        \n",
    "    if data[-1] == 0:\n",
    "        cur.next = None\n",
    "    else:\n",
    "        cur.next = ListNode(data[-1])\n",
    "        \n",
    "    return head\n",
    "\n",
    "def print_link(link):\n",
    "    cur = link\n",
    "    while cur.next:\n",
    "        print(cur.val,'->',end=' ')\n",
    "        cur = cur.next\n",
    "    print(cur.val)\n",
    "    print()\n",
    "\n",
    "def link_add(link1,link2):\n",
    "    result = []\n",
    "    cache_num = 0\n",
    "    while link1 or link2:\n",
    "        both = 2\n",
    "        \n",
    "        if link1:\n",
    "            result.append(link1.val)\n",
    "            link1 = link1.next\n",
    "            both -= 1\n",
    "        if link2:\n",
    "            result.append(link2.val)\n",
    "            link2 = link2.next\n",
    "            both -= 1\n",
    "        \n",
    "        result[-1] += cache_num\n",
    "        if both == 0:\n",
    "            result.append(result.pop()+result.pop())\n",
    "        \n",
    "        cache_num = 0 if result[-1] < 10 else 1\n",
    "        result[-1] = result[-1] % 10\n",
    "\n",
    "    result.append(cache_num)\n",
    "    linked_ = make_link(result)\n",
    "    \n",
    "    return linked_\n",
    "\n",
    "link1 = make_link([2,4,3])\n",
    "link2 = make_link([5,6,4])\n",
    "out = link_add(link1,link2)\n",
    "print_link(out)"
   ]
  },
  {
   "cell_type": "code",
   "execution_count": null,
   "metadata": {},
   "outputs": [
    {
     "name": "stdout",
     "output_type": "stream",
     "text": [
      "输入: [2, 4, 3, 0] + [5, 6, 4]\n",
      "输出: 7 -> 0 -> 8\n",
      "\n",
      "------------------------------\n",
      "输入: [0] + [0]\n",
      "输出: 0\n",
      "\n",
      "------------------------------\n",
      "输入: [9, 9, 9] + [1]\n",
      "输出: 0 -> 0 -> 0 -> 1\n",
      "\n",
      "------------------------------\n",
      "输入: [1, 8] + [0]\n",
      "输出: 1 -> 8\n",
      "\n",
      "------------------------------\n",
      "输入: [5, 6, 4] + [2, 4, 3]\n",
      "输出: 7 -> 0 -> 8\n",
      "\n",
      "------------------------------\n"
     ]
    }
   ],
   "source": [
    "test_cases = [\n",
    "    ([2, 4, 3, 0], [5, 6, 4]),  # 342 + 465 = 807\n",
    "    ([0], [0]),              # 0 + 0 = 0\n",
    "    ([9, 9, 9], [1]),        # 999 + 1 = 1000\n",
    "    ([1, 8], [0]),           # 81 + 0 = 81\n",
    "    ([5, 6, 4], [2, 4, 3]),  # 465 + 342 = 807\n",
    "]\n",
    "\n",
    "for l1, l2 in test_cases:\n",
    "    link1 = make_link(l1)\n",
    "    link2 = make_link(l2)\n",
    "    print(f\"输入: {l1} + {l2}\")\n",
    "    result = link_add(link1, link2)\n",
    "    print(\"输出: \", end=\"\")\n",
    "    print_link(result)\n",
    "    print(\"-\" * 30)"
   ]
  },
  {
   "cell_type": "markdown",
   "metadata": {},
   "source": [
    "### Q7 - Q10"
   ]
  },
  {
   "cell_type": "code",
   "execution_count": 55,
   "metadata": {},
   "outputs": [],
   "source": [
    "class SortClass(object):\n",
    "    def __init__(self):\n",
    "        pass\n",
    "    \n",
    "    def bubble(self, data, asscending=True):\n",
    "        \n",
    "        for i in range(len(data)):\n",
    "            mark = False\n",
    "            for j in range(len(data) - i - 1):\n",
    "                if data[j] > data[j + 1]:\n",
    "                    data[j], data[j + 1] = data[j + 1], data[j]\n",
    "                    mark = True\n",
    "            if not mark:\n",
    "                break\n",
    "            \n",
    "        if asscending:\n",
    "            return data\n",
    "        return data[::-1]\n",
    "    \n",
    "    def merge(self, data, asscending=True):\n",
    "        if len(data) <= 1:\n",
    "            return data\n",
    "        mid = len(data) // 2\n",
    "        left = self.merge(data[:mid])\n",
    "        right = self.merge(data[mid:])\n",
    "        data = []\n",
    "        \n",
    "        while left and right:\n",
    "            if left[0] < right[0]:\n",
    "                data.append(left.pop(0))\n",
    "            else:\n",
    "                data.append(right.pop(0))\n",
    "                \n",
    "        data += left\n",
    "        data += right\n",
    "\n",
    "        if asscending:\n",
    "            return data\n",
    "        return data[::-1]\n",
    "\n",
    "    def quick(self, data, asscending=True):\n",
    "        if len(data) <= 1:\n",
    "            return data\n",
    "        \n",
    "        def partition(lst,start,end):\n",
    "            pivot = lst[start]\n",
    "\n",
    "            while start < end :\n",
    "                while start < end and lst[end] >= pivot:\n",
    "                    end -= 1\n",
    "                lst[start] = lst[end]\n",
    "\n",
    "                while start < end and lst[start] <= pivot:\n",
    "                    start += 1\n",
    "                lst[end] = lst[start]\n",
    "\n",
    "            lst[start] = pivot\n",
    "            return start\n",
    "        \n",
    "        pivot = partition(data,0,len(data)-1)\n",
    "        data = self.quick(data[:pivot]) + [data[pivot]] + self.quick(data[pivot+1:])\n",
    "        if asscending:\n",
    "            return data\n",
    "        return data[::-1]\n",
    "    \n",
    "    def heap(self, data, asscending=True):\n",
    "        # 最大堆\n",
    "        def heapify(data, n, i):\n",
    "            larger = i\n",
    "            l = 2 * i + 1\n",
    "            r = 2 * i + 2\n",
    "            if l < n:\n",
    "                if data[i] < data[l]:\n",
    "                    larger = l\n",
    "            if r < n:\n",
    "                if data[larger] < data[r]:\n",
    "                    larger = r\n",
    "                    \n",
    "            if larger != i:\n",
    "                data[i], data[larger] = data[larger], data[i]\n",
    "                heapify(data, n, larger)\n",
    "        \n",
    "        num = len(data)\n",
    "        for i in range(num // 2 - 1, -1, -1):\n",
    "            heapify(data, num, i)\n",
    "        data_ = []\n",
    "        \n",
    "        for i in range(num - 1, -1, -1):\n",
    "            data[i], data[0] = data[0], data[i]\n",
    "            data_.append(data.pop())  \n",
    "            heapify(data, i, 0)\n",
    "\n",
    "        if asscending:\n",
    "            return data_[::-1]\n",
    "        return data_\n",
    "    \n",
    "    def __call__(self, *args, **kwds):\n",
    "        pass"
   ]
  },
  {
   "cell_type": "code",
   "execution_count": 56,
   "metadata": {},
   "outputs": [
    {
     "name": "stdout",
     "output_type": "stream",
     "text": [
      "[1, 3, 9, 11, 12, 12, 14, 14, 14, 17]\n",
      "[17, 14, 14, 14, 12, 12, 11, 9, 3, 1]\n",
      "[1, 3, 9, 11, 12, 12, 14, 14, 14, 17]\n",
      "[17, 14, 14, 14, 12, 12, 11, 9, 3, 1]\n"
     ]
    }
   ],
   "source": [
    "datasize = (10,)\n",
    "data = create_data(0,20, datasize, type='int', is_np=False)\n",
    "sorter = SortClass()\n",
    "print(sorter.bubble(data, asscending=True))\n",
    "print(sorter.merge(data, asscending=False))\n",
    "print(sorter.quick(data, asscending=True))\n",
    "print(sorter.heap(data, asscending=False))"
   ]
  },
  {
   "cell_type": "markdown",
   "metadata": {},
   "source": [
    "### Q11"
   ]
  },
  {
   "cell_type": "code",
   "execution_count": 50,
   "metadata": {},
   "outputs": [
    {
     "data": {
      "text/plain": [
       "(tensor([0.1355, 0.1761, 0.2076, 0.3228, 0.4157, 0.5496, 0.6031, 0.7314, 0.9269,\n",
       "         0.9468], dtype=torch.float64),\n",
       " tensor([ 1.5755, -0.7996], requires_grad=True),\n",
       " tensor([0.6953, 0.9338, 1.2851, 1.9325, 1.9410, 1.9643, 2.0449, 2.1092, 3.5268,\n",
       "         4.1735], dtype=torch.float64))"
      ]
     },
     "execution_count": 50,
     "metadata": {},
     "output_type": "execute_result"
    }
   ],
   "source": [
    "x = torch.tensor(sorted(create_data(0,1, datasize, type='float')))\n",
    "y = torch.tensor(sorted(create_data(0,5, datasize, type='float')))\n",
    "\n",
    "loss_fn = torch.nn.MSELoss()\n",
    "\n",
    "# y = w1 * x + w2\n",
    "w = torch.randn((2,), requires_grad=True)   # w = [w1, w2]\n",
    "x, w, y"
   ]
  },
  {
   "cell_type": "code",
   "execution_count": 51,
   "metadata": {},
   "outputs": [
    {
     "name": "stdout",
     "output_type": "stream",
     "text": [
      "tensor([-0.5861, -0.5221, -0.4724, -0.2909, -0.1447,  0.0663,  0.1506,  0.3528,\n",
      "         0.6608,  0.6922], dtype=torch.float64, grad_fn=<AddBackward0>)\n"
     ]
    },
    {
     "data": {
      "text/plain": [
       "tensor([-0.5861, -0.5221, -0.4724, -0.2909, -0.1447,  0.0663,  0.1506,  0.3528,\n",
       "         0.6608,  0.6922], dtype=torch.float64, grad_fn=<AddBackward0>)"
      ]
     },
     "execution_count": 51,
     "metadata": {},
     "output_type": "execute_result"
    }
   ],
   "source": [
    "model = lambda x,w: w[0] * x + w[1]\n",
    "print(w[0] * x + w[1])\n",
    "model(x, w)"
   ]
  },
  {
   "cell_type": "code",
   "execution_count": 52,
   "metadata": {},
   "outputs": [
    {
     "name": "stdout",
     "output_type": "stream",
     "text": [
      "epoch: 1, loss: 4.675449\n",
      "epoch: 101, loss: 0.215417\n",
      "epoch: 201, loss: 0.178608\n",
      "epoch: 301, loss: 0.170110\n",
      "epoch: 401, loss: 0.163646\n",
      "epoch: 501, loss: 0.158641\n",
      "epoch: 601, loss: 0.154765\n",
      "epoch: 701, loss: 0.151763\n",
      "epoch: 801, loss: 0.149438\n",
      "epoch: 901, loss: 0.147638\n"
     ]
    }
   ],
   "source": [
    "\n",
    "def train(x, y, model, epochs, lr_rate, loss_fn, params):\n",
    "    for epoch in range(epochs):\n",
    "        if params.grad is not None:\n",
    "            params.grad.zero_()\n",
    "            \n",
    "        y_hat = model(x, params)\n",
    "        loss = loss_fn(y_hat, y)\n",
    "        loss.backward()\n",
    "        \n",
    "        with torch.no_grad():\n",
    "            params -= lr_rate * params.grad\n",
    "            \n",
    "        if epoch % 100 == 0:\n",
    "            print(f'epoch: {epoch+1}, loss: {loss.item():.6f}')\n",
    "            \n",
    "    return params\n",
    "\n",
    "trained_w = train(x, y, model, epochs=1000, lr_rate=0.01, loss_fn=loss_fn, params=w)\n"
   ]
  },
  {
   "cell_type": "code",
   "execution_count": 53,
   "metadata": {},
   "outputs": [
    {
     "name": "stdout",
     "output_type": "stream",
     "text": [
      "tensor([3.0872, 0.5205], requires_grad=True)\n"
     ]
    }
   ],
   "source": [
    "print(w)"
   ]
  },
  {
   "cell_type": "code",
   "execution_count": 54,
   "metadata": {},
   "outputs": [
    {
     "data": {
      "image/png": "[encoded data removed]",
      "text/plain": [
       "<Figure size 640x480 with 1 Axes>"
      ]
     },
     "metadata": {},
     "output_type": "display_data"
    }
   ],
   "source": [
    "plt.scatter(x, y,label='distribution')\n",
    "plt.plot(x, model(x, trained_w.detach().numpy()),label='predict')\n",
    "plt.legend(loc='upper left')\n",
    "plt.show()"
   ]
  },
  {
   "cell_type": "markdown",
   "metadata": {},
   "source": [
    "### Q12"
   ]
  },
  {
   "cell_type": "code",
   "execution_count": 167,
   "metadata": {},
   "outputs": [
    {
     "data": {
      "text/plain": [
       "(torch.Size([160, 4]),\n",
       " torch.Size([160]),\n",
       " torch.Size([40, 4]),\n",
       " torch.Size([40]))"
      ]
     },
     "execution_count": 167,
     "metadata": {},
     "output_type": "execute_result"
    }
   ],
   "source": [
    "from sklearn.datasets import make_classification\n",
    "from sklearn.model_selection import train_test_split\n",
    "from sklearn.preprocessing import StandardScaler\n",
    "\n",
    "X, y = make_classification(n_samples=200, n_features=4, n_classes=2, random_state=42)\n",
    "\n",
    "X_train, X_test, y_train, y_test = train_test_split(X, y, test_size=0.2, random_state=42)\n",
    "scaler = StandardScaler()\n",
    "X_train = scaler.fit_transform(X_train)\n",
    "X_test = scaler.transform(X_test)\n",
    "\n",
    "x_train = torch.tensor(X_train, dtype=torch.float32)\n",
    "y_train = torch.tensor(y_train, dtype=torch.float32)\n",
    "x_test = torch.tensor(X_test, dtype=torch.float32)\n",
    "y_test = torch.tensor(y_test, dtype=torch.float32)\n",
    "\n",
    "x_train.shape, y_train.shape, x_test.shape, y_test.shape"
   ]
  },
  {
   "cell_type": "code",
   "execution_count": 175,
   "metadata": {},
   "outputs": [
    {
     "data": {
      "text/plain": [
       "(torch.Size([5, 1]), tensor(0.8603, grad_fn=<SelectBackward0>))"
      ]
     },
     "execution_count": 175,
     "metadata": {},
     "output_type": "execute_result"
    }
   ],
   "source": [
    "loss_fn = torch.nn.BCELoss()\n",
    "# y = w1 * x + w2\n",
    "w = torch.rand((5,1), requires_grad=True)   # w = [w1, w2, w3, w4, b]\n",
    "w.shape, w[-1,0]"
   ]
  },
  {
   "cell_type": "code",
   "execution_count": 176,
   "metadata": {},
   "outputs": [
    {
     "data": {
      "text/plain": [
       "torch.Size([160])"
      ]
     },
     "execution_count": 176,
     "metadata": {},
     "output_type": "execute_result"
    }
   ],
   "source": [
    "model = lambda x,w: torch.sigmoid(torch.matmul(x, w[:-1,0]) + w[-1,0])\n",
    "model(x_train, w).size()"
   ]
  },
  {
   "cell_type": "code",
   "execution_count": 177,
   "metadata": {},
   "outputs": [
    {
     "name": "stdout",
     "output_type": "stream",
     "text": [
      "epoch: 1, loss: 0.619757\n",
      "epoch: 201, loss: 0.366589\n",
      "epoch: 401, loss: 0.351275\n",
      "epoch: 601, loss: 0.347438\n",
      "epoch: 801, loss: 0.346143\n"
     ]
    }
   ],
   "source": [
    "def train(x, y, model, epochs, lr_rate, loss_fn, params):\n",
    "    for epoch in range(epochs):\n",
    "        if params.grad is not None:\n",
    "            params.grad.zero_()\n",
    "            \n",
    "        y_hat = model(x, params)\n",
    "        loss = loss_fn(y_hat, y)\n",
    "        loss.backward()\n",
    "        \n",
    "        with torch.no_grad():\n",
    "            params -= lr_rate * params.grad\n",
    "            \n",
    "        if epoch % 200 == 0:\n",
    "            print(f'epoch: {epoch+1}, loss: {loss.item():.6f}')\n",
    "            \n",
    "    return params\n",
    "\n",
    "trained_w = train(x_train, y_train, model, epochs=1000, lr_rate=0.05, loss_fn=loss_fn, params=w)"
   ]
  },
  {
   "cell_type": "code",
   "execution_count": 178,
   "metadata": {},
   "outputs": [
    {
     "name": "stdout",
     "output_type": "stream",
     "text": [
      "0.9\n"
     ]
    }
   ],
   "source": [
    "def trans_y(y_hat, threshold=0.5):\n",
    "    return (y_hat > threshold).float()\n",
    "\n",
    "y_hat = trans_y(model(x_test, trained_w.detach()))\n",
    "\n",
    "print(acc(y_hat,y_test))\n",
    "# y_hat.shape, y_test.shape"
   ]
  },
  {
   "cell_type": "code",
   "execution_count": 179,
   "metadata": {},
   "outputs": [
    {
     "data": {
      "text/plain": [
       "(tensor([1., 0., 1., 1., 1., 0., 1., 1., 0., 0.]),\n",
       " tensor([1., 1., 1., 1., 0., 0., 1., 1., 0., 0.]))"
      ]
     },
     "execution_count": 179,
     "metadata": {},
     "output_type": "execute_result"
    }
   ],
   "source": [
    "y_test[:10], y_hat[:10]"
   ]
  },
  {
   "cell_type": "markdown",
   "metadata": {},
   "source": [
    "### Q13"
   ]
  },
  {
   "cell_type": "code",
   "execution_count": 116,
   "metadata": {},
   "outputs": [
    {
     "data": {
      "text/plain": [
       "(torch.Size([160, 5]), torch.Size([160]))"
      ]
     },
     "execution_count": 116,
     "metadata": {},
     "output_type": "execute_result"
    }
   ],
   "source": [
    "from sklearn.datasets import make_classification\n",
    "from sklearn.model_selection import train_test_split\n",
    "from sklearn.preprocessing import StandardScaler\n",
    "\n",
    "X, y = make_classification(n_samples=200, n_features=5, n_classes=2, random_state=42)\n",
    "y = 2 * y - 1\n",
    "\n",
    "scaler = StandardScaler()\n",
    "X = scaler.fit_transform(X)\n",
    "\n",
    "x_train, x_test, y_train, y_test = train_test_split(X, y, test_size=0.2, random_state=42)\n",
    "\n",
    "x_train = torch.tensor(x_train, dtype=torch.float32)\n",
    "y_train = torch.tensor(y_train, dtype=torch.float32)\n",
    "x_test = torch.tensor(x_test, dtype=torch.float32)\n",
    "y_test = torch.tensor(y_test, dtype=torch.float32)\n",
    "x_train.shape, y_train.shape"
   ]
  },
  {
   "cell_type": "code",
   "execution_count": 117,
   "metadata": {},
   "outputs": [
    {
     "data": {
      "text/plain": [
       "(torch.Size([6, 1]), tensor(0.5367, grad_fn=<SelectBackward0>))"
      ]
     },
     "execution_count": 117,
     "metadata": {},
     "output_type": "execute_result"
    }
   ],
   "source": [
    "def hinge_lossfn():\n",
    "    def hinge_loss(y_hat, y_true):\n",
    "        return torch.mean(torch.max(torch.tensor(0.), 1 - y_true * y_hat))\n",
    "    return hinge_loss\n",
    "\n",
    "loss_fn = hinge_lossfn()\n",
    "# y = w1 * x + w2\n",
    "w = torch.rand((x_train.shape[1]+1,1), requires_grad=True)\n",
    "w.shape, w[-1,0]"
   ]
  },
  {
   "cell_type": "code",
   "execution_count": 118,
   "metadata": {},
   "outputs": [
    {
     "data": {
      "text/plain": [
       "torch.Size([160, 1])"
      ]
     },
     "execution_count": 118,
     "metadata": {},
     "output_type": "execute_result"
    }
   ],
   "source": [
    "model = lambda x,w: torch.matmul(x, w[:-1]) + w[-1]\n",
    "model(x_train,w).size()"
   ]
  },
  {
   "cell_type": "code",
   "execution_count": 119,
   "metadata": {},
   "outputs": [
    {
     "name": "stdout",
     "output_type": "stream",
     "text": [
      "Epoch 1, Loss: 0.841819, Accuracy: 0.6000\n",
      "Epoch 101, Loss: 0.578425, Accuracy: 0.7625\n",
      "Epoch 201, Loss: 0.462839, Accuracy: 0.8000\n",
      "Epoch 301, Loss: 0.416798, Accuracy: 0.8500\n",
      "Epoch 401, Loss: 0.392021, Accuracy: 0.8562\n",
      "Epoch 501, Loss: 0.377468, Accuracy: 0.8562\n",
      "Epoch 601, Loss: 0.369183, Accuracy: 0.8500\n",
      "Test Accuracy: 0.8500\n",
      "Trained weights: tensor([[ 0.9757],\n",
      "        [-0.3489],\n",
      "        [ 0.0664],\n",
      "        [ 1.1054],\n",
      "        [ 0.9682],\n",
      "        [ 0.1171]], requires_grad=True)\n",
      "Trained bias: tensor([0.1355], requires_grad=True)\n"
     ]
    }
   ],
   "source": [
    "loss_fn = hinge_lossfn()\n",
    "\n",
    "lr = 0.01\n",
    "\n",
    "epochs = 700\n",
    "\n",
    "for epoch in range(epochs):\n",
    "    if w.grad is not None:\n",
    "        w.grad.zero_()\n",
    "\n",
    "    y_pred = model(x_train, w)\n",
    "    \n",
    "    loss = loss_fn(y_pred.squeeze(), y_train)\n",
    "    loss.backward()\n",
    "    with torch.no_grad():\n",
    "        w -= lr * w.grad\n",
    "\n",
    "    y_pred = torch.sign(y_pred.squeeze())\n",
    "    accuracy = (y_pred == y_train).float().mean()\n",
    "\n",
    "    if epoch % 100 == 0:\n",
    "        print(f\"Epoch {epoch + 1}, Loss: {loss.item():.6f}, Accuracy: {accuracy.item():.4f}\")\n",
    "\n",
    "y_test_pred = model(x_test, w)\n",
    "y_test_pred_label = torch.sign(y_test_pred.squeeze())  # 预测标签\n",
    "accuracy_test = (y_test_pred_label == y_test).float().mean()\n",
    "\n",
    "print(f\"Test Accuracy: {accuracy_test.item():.4f}\")\n",
    "print(f\"Trained weights: {w}\")\n",
    "print(f\"Trained bias: {b}\")\n"
   ]
  },
  {
   "cell_type": "markdown",
   "metadata": {},
   "source": [
    "### Q14"
   ]
  },
  {
   "cell_type": "code",
   "execution_count": 150,
   "metadata": {},
   "outputs": [
    {
     "data": {
      "text/plain": [
       "(torch.Size([160, 10]), torch.Size([160]))"
      ]
     },
     "execution_count": 150,
     "metadata": {},
     "output_type": "execute_result"
    }
   ],
   "source": [
    "from sklearn.datasets import make_classification\n",
    "from sklearn.model_selection import train_test_split\n",
    "from sklearn.preprocessing import StandardScaler\n",
    "\n",
    "X, y = make_classification(n_samples=200, n_features=10, n_classes=2, random_state=42)\n",
    "y = 2 * y - 1\n",
    "\n",
    "scaler = StandardScaler()\n",
    "X = scaler.fit_transform(X)\n",
    "\n",
    "x_train, x_test, y_train, y_test = train_test_split(X, y, test_size=0.2, random_state=42)\n",
    "\n",
    "x_train = torch.tensor(x_train, dtype=torch.float32)\n",
    "y_train = torch.tensor(y_train, dtype=torch.float32)\n",
    "x_test = torch.tensor(x_test, dtype=torch.float32)\n",
    "y_test = torch.tensor(y_test, dtype=torch.float32)\n",
    "x_train.shape, y_train.shape"
   ]
  },
  {
   "cell_type": "code",
   "execution_count": 151,
   "metadata": {},
   "outputs": [
    {
     "data": {
      "text/plain": [
       "(torch.Size([11, 1]), tensor(0.3918, grad_fn=<SelectBackward0>))"
      ]
     },
     "execution_count": 151,
     "metadata": {},
     "output_type": "execute_result"
    }
   ],
   "source": [
    "def hinge_lossfn():\n",
    "    def hinge_loss(y_hat, y_true):\n",
    "        return torch.mean(torch.max(torch.tensor(0.), 1 - y_true * y_hat))\n",
    "    return hinge_loss\n",
    "\n",
    "loss_fn = hinge_lossfn()\n",
    "# y = w1 * x + w2\n",
    "w = torch.rand((x_train.shape[1]+1,1), requires_grad=True)\n",
    "w.shape, w[-1,0]"
   ]
  },
  {
   "cell_type": "code",
   "execution_count": 152,
   "metadata": {},
   "outputs": [
    {
     "data": {
      "text/plain": [
       "torch.Size([160, 1])"
      ]
     },
     "execution_count": 152,
     "metadata": {},
     "output_type": "execute_result"
    }
   ],
   "source": [
    "model = lambda x,w: torch.matmul(x, w[:-1]) + w[-1]\n",
    "model(x_train,w).size()"
   ]
  },
  {
   "cell_type": "code",
   "execution_count": 156,
   "metadata": {},
   "outputs": [
    {
     "data": {
      "text/plain": [
       "tensor(1.5582, grad_fn=<SqrtBackward0>)"
      ]
     },
     "execution_count": 156,
     "metadata": {},
     "output_type": "execute_result"
    }
   ],
   "source": [
    "def f_norm(w):\n",
    "    return torch.sqrt(torch.sum(w**2))\n",
    "A = f_norm(w)\n",
    "A"
   ]
  },
  {
   "cell_type": "code",
   "execution_count": 154,
   "metadata": {},
   "outputs": [
    {
     "name": "stdout",
     "output_type": "stream",
     "text": [
      "Epoch 1, Loss: 1.286651, Accuracy: 0.4812\n",
      "Epoch 101, Loss: 0.772187, Accuracy: 0.6438\n",
      "Epoch 201, Loss: 0.508280, Accuracy: 0.7875\n",
      "Epoch 301, Loss: 0.421605, Accuracy: 0.8625\n",
      "Epoch 401, Loss: 0.390645, Accuracy: 0.8625\n",
      "Epoch 501, Loss: 0.372987, Accuracy: 0.8750\n",
      "Epoch 601, Loss: 0.362312, Accuracy: 0.8750\n",
      "Test Accuracy: 0.8500\n",
      "Trained weights: tensor([[ 0.2534],\n",
      "        [ 0.3980],\n",
      "        [ 0.3295],\n",
      "        [ 0.0357],\n",
      "        [-0.0287],\n",
      "        [ 0.0903],\n",
      "        [-0.0947],\n",
      "        [ 1.4399],\n",
      "        [ 0.0095],\n",
      "        [-0.0628],\n",
      "        [-0.0160]], requires_grad=True)\n",
      "Trained bias: tensor([0.1355], requires_grad=True)\n"
     ]
    }
   ],
   "source": [
    "loss_fn = hinge_lossfn()\n",
    "\n",
    "lr = 0.01\n",
    "\n",
    "epochs = 700\n",
    "\n",
    "for epoch in range(epochs):\n",
    "    if w.grad is not None:\n",
    "        w.grad.zero_()\n",
    "\n",
    "    y_pred = model(x_train, w)\n",
    "    \n",
    "    loss_hinge = loss_fn(y_pred.squeeze(), y_train)\n",
    "    f_norm_ = torch.norm(w, p='fro') # f_norm(w)\n",
    "    \n",
    "    loss = loss_hinge + 0.001 *  f_norm_\n",
    "    \n",
    "    loss.backward()\n",
    "    with torch.no_grad():\n",
    "        w -= lr * w.grad\n",
    "\n",
    "    y_pred = torch.sign(y_pred.squeeze())\n",
    "    accuracy = (y_pred == y_train).float().mean()\n",
    "\n",
    "    if epoch % 100 == 0:\n",
    "        print(f\"Epoch {epoch + 1}, Loss: {loss.item():.6f}, Accuracy: {accuracy.item():.4f}\")\n",
    "\n",
    "y_test_pred = model(x_test, w)\n",
    "y_test_pred_label = torch.sign(y_test_pred.squeeze())  # 预测标签\n",
    "accuracy_test = (y_test_pred_label == y_test).float().mean()\n",
    "\n",
    "print(f\"Test Accuracy: {accuracy_test.item():.4f}\")\n",
    "print(f\"Trained weights: {w}\")\n",
    "print(f\"Trained bias: {b}\")"
   ]
  },
  {
   "cell_type": "markdown",
   "metadata": {},
   "source": [
    "### Q15"
   ]
  },
  {
   "cell_type": "markdown",
   "metadata": {},
   "source": [
    "#### Q15.1 linear regression"
   ]
  },
  {
   "cell_type": "code",
   "execution_count": 32,
   "metadata": {},
   "outputs": [
    {
     "data": {
      "text/plain": [
       "<matplotlib.legend.Legend at 0x230492333d0>"
      ]
     },
     "execution_count": 32,
     "metadata": {},
     "output_type": "execute_result"
    },
    {
     "data": {
      "image/png": "[encoded data removed]",
      "text/plain": [
       "<Figure size 640x480 with 1 Axes>"
      ]
     },
     "metadata": {},
     "output_type": "display_data"
    }
   ],
   "source": [
    "from sklearn.linear_model import LinearRegression\n",
    "\n",
    "x = np.sort(np.random.randint(0,50,(50,1)), axis=0)\n",
    "y = 2 * x + np.random.uniform(0,10,(50,1))\n",
    "\n",
    "x_test = np.sort(np.random.randint(-50,80,(30,1)), axis=0)\n",
    "y_test = 2 * x_test + np.random.uniform(0,10,(30,1))\n",
    "model = LinearRegression()\n",
    "model.fit(x, y)\n",
    "y_hat = model.predict(x_test)\n",
    "\n",
    "plt.plot(x_test,y_hat,label='predict_plot')\n",
    "plt.scatter(x_test,y_hat,label='predict_scatter')\n",
    "plt.scatter(x_test,y_test,label='ground truth')\n",
    "plt.scatter(x, y,label='distribution')\n",
    "plt.legend()"
   ]
  },
  {
   "cell_type": "code",
   "execution_count": 33,
   "metadata": {},
   "outputs": [
    {
     "name": "stdout",
     "output_type": "stream",
     "text": [
      "mae: 2.5\n",
      "mape:4.11%\n"
     ]
    }
   ],
   "source": [
    "print(f'mae: {round(mae(y_hat, y_test),2)}')\n",
    "print(f'mape:{round(np.mean((y_hat-y_test)/y_test)*100,2)}%')"
   ]
  },
  {
   "cell_type": "markdown",
   "metadata": {},
   "source": [
    "### Q15.2 logistic regression"
   ]
  },
  {
   "cell_type": "code",
   "execution_count": 34,
   "metadata": {},
   "outputs": [
    {
     "name": "stdout",
     "output_type": "stream",
     "text": [
      "(500, 30) (500,)\n",
      "accuracy: 0.85\n",
      "[0 1 1 0 1 0 0 1 1 1]\n",
      "[0 1 1 0 1 1 0 1 1 1]\n"
     ]
    }
   ],
   "source": [
    "from sklearn.linear_model import LogisticRegression\n",
    "from sklearn.datasets import make_classification\n",
    "from sklearn.preprocessing import StandardScaler\n",
    "\n",
    "x, y = make_classification(n_samples=500, n_features=30, n_classes=2, random_state=42)\n",
    "print(x.shape, y.shape)\n",
    "scaler = StandardScaler()\n",
    "x = scaler.fit_transform(x)\n",
    "x_train, x_test, y_train, y_test = train_test_split(x, y, test_size=0.2)\n",
    "\n",
    "model = LogisticRegression()\n",
    "model.fit(x_train, y_train)\n",
    "y_hat = model.predict(x_test)\n",
    "\n",
    "print('accuracy:', round(acc(y_test, y_hat),2))\n",
    "print(y_hat[10:20])\n",
    "print(y_test[10:20])"
   ]
  },
  {
   "cell_type": "markdown",
   "metadata": {},
   "source": [
    "#### Q15.3 SVM"
   ]
  },
  {
   "cell_type": "code",
   "execution_count": 37,
   "metadata": {},
   "outputs": [
    {
     "name": "stdout",
     "output_type": "stream",
     "text": [
      "(150, 4) (150,)\n",
      "accuracy: 0.9\n",
      "[2 1 1 0 0 1 1 2 0 1]\n",
      "[2 1 1 0 0 1 1 2 0 2]\n"
     ]
    }
   ],
   "source": [
    "from sklearn.svm import SVC\n",
    "from sklearn.datasets import load_iris\n",
    "data = load_iris()\n",
    "x = data.data\n",
    "y = data.target\n",
    "print(x.shape, y.shape)\n",
    "scaler = StandardScaler()\n",
    "x = scaler.fit_transform(x)\n",
    "x_train, x_test, y_train, y_test = train_test_split(x, y, test_size=0.2)\n",
    "\n",
    "model = SVC(kernel='linear')\n",
    "model.fit(x_train, y_train)\n",
    "y_hat = model.predict(x_test)\n",
    "\n",
    "print('accuracy:', round(acc(y_test, y_hat),2))\n",
    "print(y_hat[10:20])\n",
    "print(y_test[10:20])"
   ]
  },
  {
   "cell_type": "markdown",
   "metadata": {},
   "source": [
    "### Q16"
   ]
  },
  {
   "cell_type": "code",
   "execution_count": 5,
   "metadata": {},
   "outputs": [],
   "source": [
    "dataset = torchvision.datasets.CIFAR10(root='./data', train=True, download=False)"
   ]
  },
  {
   "cell_type": "code",
   "execution_count": 42,
   "metadata": {},
   "outputs": [
    {
     "data": {
      "image/png": "[encoded data removed]",
      "text/plain": [
       "<Figure size 640x480 with 1 Axes>"
      ]
     },
     "metadata": {},
     "output_type": "display_data"
    },
    {
     "data": {
      "image/png": "[encoded data removed]",
      "text/plain": [
       "<Figure size 640x480 with 1 Axes>"
      ]
     },
     "metadata": {},
     "output_type": "display_data"
    }
   ],
   "source": [
    "img_iter = iter(dataset)\n",
    "for i in range(2):\n",
    "    img, label = next(img_iter)\n",
    "    img = np.array(img)\n",
    "    plt.imshow(img)\n",
    "    plt.show()"
   ]
  },
  {
   "cell_type": "markdown",
   "metadata": {},
   "source": [
    "### Q17"
   ]
  },
  {
   "cell_type": "code",
   "execution_count": 3,
   "metadata": {},
   "outputs": [],
   "source": [
    "class DatasetCifar10(Dataset):\n",
    "    def __init__(self, root, train=True, transforms=None, target_transform=None, download=False):\n",
    "        \n",
    "        self.dataset = torchvision.datasets.CIFAR10(root,\n",
    "                                                    train=train,\n",
    "                                                    download=download,\n",
    "                                                    )\n",
    "        self.transforms = transforms\n",
    "        self.target_transform = target_transform\n",
    "    def __getitem__(self, index, is_transform=True, is_target_transform=True):\n",
    "        img, label = self.dataset[index]\n",
    "        \n",
    "        if is_transform:\n",
    "            img = self.transforms(img)\n",
    "        if is_target_transform:\n",
    "            label = self.target_transform(label)\n",
    "            \n",
    "        return img, label\n",
    "    \n",
    "    def __len__(self):\n",
    "        return len(self.dataset)\n",
    "\n",
    "transform = transforms.Compose([\n",
    "    transforms.ToTensor(),\n",
    "    transforms.Normalize((0.5, 0.5, 0.5), (0.5, 0.5, 0.5))\n",
    "])\n",
    "target_transform = transforms.Compose([\n",
    "    transforms.Lambda(lambda x: x/10),\n",
    "])\n",
    "\n",
    "Cifar10_train = DatasetCifar10(root='./data', train=True, download=False, transforms=transform, target_transform=target_transform)\n",
    "Cifar10_test = DatasetCifar10(root='./data', train=False, download=False, transforms=transform, target_transform=target_transform)\n",
    "\n",
    "training = DataLoader(dataset=Cifar10_train, batch_size=4, shuffle=False)\n",
    "testing = DataLoader(dataset=Cifar10_test, batch_size=4, shuffle=False)\n"
   ]
  },
  {
   "cell_type": "code",
   "execution_count": 4,
   "metadata": {},
   "outputs": [
    {
     "name": "stdout",
     "output_type": "stream",
     "text": [
      "12500 2500 50000 10000\n",
      "(tensor([[[ 0.8431,  0.8118,  0.8196,  ...,  0.8275,  0.8275,  0.8196],\n",
      "         [ 0.8667,  0.8431,  0.8431,  ...,  0.8510,  0.8510,  0.8431],\n",
      "         [ 0.8588,  0.8353,  0.8353,  ...,  0.8431,  0.8431,  0.8353],\n",
      "         ...,\n",
      "         [-0.3176, -0.6627, -0.8510,  ...,  0.3255,  0.4275,  0.4745],\n",
      "         [-0.3569, -0.6392, -0.7176,  ...,  0.3647,  0.4510,  0.4667],\n",
      "         [-0.3333, -0.5137, -0.5451,  ...,  0.3176,  0.4118,  0.4588]],\n",
      "\n",
      "        [[ 0.8431,  0.8118,  0.8196,  ...,  0.8275,  0.8275,  0.8196],\n",
      "         [ 0.8667,  0.8431,  0.8431,  ...,  0.8510,  0.8510,  0.8431],\n",
      "         [ 0.8588,  0.8353,  0.8353,  ...,  0.8431,  0.8431,  0.8353],\n",
      "         ...,\n",
      "         [-0.2235, -0.6000, -0.8196,  ...,  0.4431,  0.5451,  0.5843],\n",
      "         [-0.2471, -0.5529, -0.6549,  ...,  0.4824,  0.5686,  0.5843],\n",
      "         [-0.2078, -0.4118, -0.4745,  ...,  0.4353,  0.5294,  0.5686]],\n",
      "\n",
      "        [[ 0.8431,  0.8118,  0.8196,  ...,  0.8275,  0.8275,  0.8196],\n",
      "         [ 0.8667,  0.8431,  0.8431,  ...,  0.8510,  0.8510,  0.8431],\n",
      "         [ 0.8588,  0.8353,  0.8353,  ...,  0.8431,  0.8431,  0.8353],\n",
      "         ...,\n",
      "         [-0.3020, -0.7098, -0.9137,  ...,  0.4039,  0.5137,  0.5765],\n",
      "         [-0.3569, -0.7176, -0.8275,  ...,  0.4353,  0.5373,  0.5686],\n",
      "         [-0.3490, -0.6235, -0.7020,  ...,  0.3961,  0.4980,  0.5608]]]), 0.8)\n",
      "(<PIL.Image.Image image mode=RGB size=32x32 at 0x232F1DCDF30>, 8)\n"
     ]
    }
   ],
   "source": [
    "print(training.__len__(), testing.__len__(), Cifar10_train.__len__(), Cifar10_test.__len__())\n",
    "print(Cifar10_test.__getitem__(1))\n",
    "print(Cifar10_test.__getitem__(1, is_transform=False, is_target_transform=False))"
   ]
  },
  {
   "cell_type": "code",
   "execution_count": null,
   "metadata": {},
   "outputs": [
    {
     "name": "stdout",
     "output_type": "stream",
     "text": [
      "torch.Size([4, 3, 32, 32]) tensor([0.3000, 0.8000, 0.8000, 0.0000], dtype=torch.float64)\n",
      "torch.Size([4, 3, 32, 32]) tensor([0.6000, 0.6000, 0.1000, 0.6000], dtype=torch.float64)\n",
      "torch.Size([4, 3, 32, 32]) tensor([0.3000, 0.1000, 0.0000, 0.9000], dtype=torch.float64)\n",
      "torch.Size([4, 3, 32, 32]) tensor([0.5000, 0.7000, 0.9000, 0.8000], dtype=torch.float64)\n",
      "torch.Size([4, 3, 32, 32]) tensor([0.5000, 0.7000, 0.8000, 0.6000], dtype=torch.float64)\n",
      "torch.Size([4, 3, 32, 32]) tensor([0.7000, 0.0000, 0.4000, 0.9000], dtype=torch.float64)\n"
     ]
    }
   ],
   "source": [
    "for counter, (img, label) in enumerate(testing):\n",
    "    print(img.shape, label)\n",
    "    \n",
    "    if counter == 5:\n",
    "        break"
   ]
  },
  {
   "cell_type": "markdown",
   "metadata": {},
   "source": [
    "### Q18"
   ]
  },
  {
   "cell_type": "code",
   "execution_count": 32,
   "metadata": {},
   "outputs": [
    {
     "data": {
      "text/plain": [
       "<matplotlib.image.AxesImage at 0x1f56be72f80>"
      ]
     },
     "execution_count": 32,
     "metadata": {},
     "output_type": "execute_result"
    },
    {
     "data": {
      "image/png": "[encoded data removed]",
      "text/plain": [
       "<Figure size 640x480 with 1 Axes>"
      ]
     },
     "metadata": {},
     "output_type": "display_data"
    }
   ],
   "source": [
    "from torchvision import transforms\n",
    "# Read and learn how to use torchvision.transforms to transform images. \n",
    "# transforms.ToTensor()\n",
    "# transforms.Normalize()\n",
    "# transforms.RandomCrop()\n",
    "# transforms.RandomHorizontalFlip()\n",
    "# transforms.RandomRotation()\n",
    "# transforms.RandomAffine()\n",
    "# transforms.ColorJitter()\n",
    "# transforms.RandomGrayscale()\n",
    "# transforms.RandomPerspective()\n",
    "# transforms.RandomErasing()\n",
    "# transforms.Resize()\n",
    "# transforms.CenterCrop()\n",
    "# transforms.RandomResizedCrop()\n",
    "# transforms.Grayscale()\n",
    "# transforms.ToPILImage()\n",
    "\n",
    "sample_data = torchvision.datasets.CIFAR10(root='./data', train=False, download=False)\n",
    "img = sample_data.__getitem__(0)\n",
    "plt.imshow(img[0])"
   ]
  },
  {
   "cell_type": "code",
   "execution_count": 29,
   "metadata": {},
   "outputs": [
    {
     "name": "stdout",
     "output_type": "stream",
     "text": [
      "torch.Size([3, 32, 32]) <class 'torch.Tensor'>\n",
      "tensor(1.) tensor(-0.8980)\n"
     ]
    }
   ],
   "source": [
    "tensor_data = torchvision.transforms.ToTensor()(sample_data[0][0])\n",
    "print(tensor_data.size(), type(tensor_data))\n",
    "\n",
    "normalized_data = torchvision.transforms.Normalize((0.5, 0.5, 0.5), (0.5, 0.5, 0.5))(tensor_data)\n",
    "print(normalized_data.max(), normalized_data.min())"
   ]
  },
  {
   "cell_type": "code",
   "execution_count": 36,
   "metadata": {},
   "outputs": [
    {
     "name": "stderr",
     "output_type": "stream",
     "text": [
      "Clipping input data to the valid range for imshow with RGB data ([0..1] for floats or [0..255] for integers).\n"
     ]
    },
    {
     "data": {
      "text/plain": [
       "<matplotlib.image.AxesImage at 0x1f5684cf5b0>"
      ]
     },
     "execution_count": 36,
     "metadata": {},
     "output_type": "execute_result"
    },
    {
     "data": {
      "image/png": "[encoded data removed]",
      "text/plain": [
       "<Figure size 640x480 with 1 Axes>"
      ]
     },
     "metadata": {},
     "output_type": "display_data"
    }
   ],
   "source": [
    "# plt.imshow(tensor_data.permute(1, 2, 0))\n",
    "plt.imshow(normalized_data.permute(1, 2, 0))"
   ]
  },
  {
   "cell_type": "code",
   "execution_count": 38,
   "metadata": {},
   "outputs": [
    {
     "data": {
      "text/plain": [
       "<matplotlib.image.AxesImage at 0x1f5685bf6d0>"
      ]
     },
     "execution_count": 38,
     "metadata": {},
     "output_type": "execute_result"
    },
    {
     "data": {
      "image/png": "[encoded data removed]",
      "text/plain": [
       "<Figure size 640x480 with 1 Axes>"
      ]
     },
     "metadata": {},
     "output_type": "display_data"
    }
   ],
   "source": [
    "randomcrop_data = transforms.RandomCrop(32, padding=4)(tensor_data)\n",
    "plt.imshow(randomcrop_data.permute(1, 2, 0))"
   ]
  },
  {
   "cell_type": "code",
   "execution_count": 42,
   "metadata": {},
   "outputs": [
    {
     "data": {
      "text/plain": [
       "<matplotlib.image.AxesImage at 0x1f5687c5930>"
      ]
     },
     "execution_count": 42,
     "metadata": {},
     "output_type": "execute_result"
    },
    {
     "data": {
      "image/png": "[encoded data removed]",
      "text/plain": [
       "<Figure size 640x480 with 1 Axes>"
      ]
     },
     "metadata": {},
     "output_type": "display_data"
    }
   ],
   "source": [
    "ran_hori_flip = transforms.RandomHorizontalFlip()(tensor_data)\n",
    "plt.imshow(ran_hori_flip.permute(1, 2, 0))"
   ]
  },
  {
   "cell_type": "code",
   "execution_count": 43,
   "metadata": {},
   "outputs": [
    {
     "data": {
      "text/plain": [
       "<matplotlib.image.AxesImage at 0x1f568842950>"
      ]
     },
     "execution_count": 43,
     "metadata": {},
     "output_type": "execute_result"
    },
    {
     "data": {
      "image/png": "[encoded data removed]",
      "text/plain": [
       "<Figure size 640x480 with 1 Axes>"
      ]
     },
     "metadata": {},
     "output_type": "display_data"
    }
   ],
   "source": [
    "randomrotation = transforms.RandomRotation(45)(tensor_data)\n",
    "plt.imshow(randomrotation.permute(1, 2, 0))"
   ]
  },
  {
   "cell_type": "code",
   "execution_count": 44,
   "metadata": {},
   "outputs": [
    {
     "data": {
      "text/plain": [
       "<matplotlib.image.AxesImage at 0x1f56833c490>"
      ]
     },
     "execution_count": 44,
     "metadata": {},
     "output_type": "execute_result"
    },
    {
     "data": {
      "image/png": "[encoded data removed]",
      "text/plain": [
       "<Figure size 640x480 with 1 Axes>"
      ]
     },
     "metadata": {},
     "output_type": "display_data"
    }
   ],
   "source": [
    "randomaffine = transforms.RandomAffine(45)(tensor_data)\n",
    "plt.imshow(randomaffine.permute(1, 2, 0))"
   ]
  },
  {
   "cell_type": "code",
   "execution_count": 45,
   "metadata": {},
   "outputs": [
    {
     "data": {
      "text/plain": [
       "<matplotlib.image.AxesImage at 0x1f5683fc1c0>"
      ]
     },
     "execution_count": 45,
     "metadata": {},
     "output_type": "execute_result"
    },
    {
     "data": {
      "image/png": "[encoded data removed]",
      "text/plain": [
       "<Figure size 640x480 with 1 Axes>"
      ]
     },
     "metadata": {},
     "output_type": "display_data"
    }
   ],
   "source": [
    "colorjitter = transforms.ColorJitter(brightness=0.5, contrast=0.5, saturation=0.5, hue=0.5)(tensor_data)\n",
    "plt.imshow(colorjitter.permute(1, 2, 0))"
   ]
  },
  {
   "cell_type": "code",
   "execution_count": 50,
   "metadata": {},
   "outputs": [
    {
     "data": {
      "text/plain": [
       "<matplotlib.image.AxesImage at 0x1f568a7e6b0>"
      ]
     },
     "execution_count": 50,
     "metadata": {},
     "output_type": "execute_result"
    },
    {
     "data": {
      "image/png": "[encoded data removed]",
      "text/plain": [
       "<Figure size 640x480 with 1 Axes>"
      ]
     },
     "metadata": {},
     "output_type": "display_data"
    }
   ],
   "source": [
    "randomgrayscale = transforms.RandomGrayscale(0.7)(tensor_data)\n",
    "plt.imshow(randomgrayscale.permute(1, 2, 0))"
   ]
  },
  {
   "cell_type": "code",
   "execution_count": 54,
   "metadata": {},
   "outputs": [
    {
     "data": {
      "text/plain": [
       "<matplotlib.image.AxesImage at 0x1f56397f730>"
      ]
     },
     "execution_count": 54,
     "metadata": {},
     "output_type": "execute_result"
    },
    {
     "data": {
      "image/png": "[encoded data removed]",
      "text/plain": [
       "<Figure size 640x480 with 1 Axes>"
      ]
     },
     "metadata": {},
     "output_type": "display_data"
    }
   ],
   "source": [
    "randomperspective = transforms.RandomPerspective(0.9)(tensor_data)\n",
    "plt.imshow(randomperspective.permute(1, 2, 0))"
   ]
  },
  {
   "cell_type": "code",
   "execution_count": 62,
   "metadata": {},
   "outputs": [
    {
     "data": {
      "text/plain": [
       "<matplotlib.image.AxesImage at 0x1f55f3ddf60>"
      ]
     },
     "execution_count": 62,
     "metadata": {},
     "output_type": "execute_result"
    },
    {
     "data": {
      "image/png": "[encoded data removed]",
      "text/plain": [
       "<Figure size 640x480 with 1 Axes>"
      ]
     },
     "metadata": {},
     "output_type": "display_data"
    }
   ],
   "source": [
    "randomerasing = transforms.RandomErasing(1, scale=(0.02, 0.33), ratio=(0.3, 3.3), value=0)(tensor_data)\n",
    "plt.imshow(randomerasing.permute(1, 2, 0))"
   ]
  },
  {
   "cell_type": "code",
   "execution_count": 65,
   "metadata": {},
   "outputs": [
    {
     "name": "stdout",
     "output_type": "stream",
     "text": [
      "torch.Size([3, 16, 16])\n"
     ]
    },
    {
     "data": {
      "text/plain": [
       "<matplotlib.image.AxesImage at 0x1f55f683130>"
      ]
     },
     "execution_count": 65,
     "metadata": {},
     "output_type": "execute_result"
    },
    {
     "data": {
      "image/png": "[encoded data removed]",
      "text/plain": [
       "<Figure size 640x480 with 1 Axes>"
      ]
     },
     "metadata": {},
     "output_type": "display_data"
    }
   ],
   "source": [
    "resize = transforms.Resize(16)(tensor_data)\n",
    "print(resize.size())\n",
    "plt.imshow(resize.permute(1, 2, 0))"
   ]
  },
  {
   "cell_type": "code",
   "execution_count": 70,
   "metadata": {},
   "outputs": [
    {
     "data": {
      "text/plain": [
       "<matplotlib.image.AxesImage at 0x1f55f4d03a0>"
      ]
     },
     "execution_count": 70,
     "metadata": {},
     "output_type": "execute_result"
    },
    {
     "data": {
      "image/png": "[encoded data removed]",
      "text/plain": [
       "<Figure size 640x480 with 1 Axes>"
      ]
     },
     "metadata": {},
     "output_type": "display_data"
    }
   ],
   "source": [
    "centercrop = transforms.CenterCrop(20)(tensor_data)\n",
    "plt.imshow(centercrop.permute(1, 2, 0))"
   ]
  },
  {
   "cell_type": "code",
   "execution_count": 72,
   "metadata": {},
   "outputs": [
    {
     "data": {
      "text/plain": [
       "<matplotlib.image.AxesImage at 0x1f55f91c7f0>"
      ]
     },
     "execution_count": 72,
     "metadata": {},
     "output_type": "execute_result"
    },
    {
     "data": {
      "image/png": "[encoded data removed]",
      "text/plain": [
       "<Figure size 640x480 with 1 Axes>"
      ]
     },
     "metadata": {},
     "output_type": "display_data"
    }
   ],
   "source": [
    "ran_resizedcrop = transforms.RandomResizedCrop(20)(tensor_data)\n",
    "plt.imshow(ran_resizedcrop.permute(1, 2, 0))"
   ]
  },
  {
   "cell_type": "code",
   "execution_count": 79,
   "metadata": {},
   "outputs": [
    {
     "data": {
      "text/plain": [
       "<matplotlib.image.AxesImage at 0x1f55f140b20>"
      ]
     },
     "execution_count": 79,
     "metadata": {},
     "output_type": "execute_result"
    },
    {
     "data": {
      "image/png": "[encoded data removed]",
      "text/plain": [
       "<Figure size 640x480 with 1 Axes>"
      ]
     },
     "metadata": {},
     "output_type": "display_data"
    }
   ],
   "source": [
    "grayscale = transforms.Grayscale(3)(tensor_data)\n",
    "plt.imshow(grayscale.permute(1, 2, 0))"
   ]
  },
  {
   "cell_type": "code",
   "execution_count": 82,
   "metadata": {},
   "outputs": [
    {
     "name": "stdout",
     "output_type": "stream",
     "text": [
      "<class 'PIL.Image.Image'>\n"
     ]
    },
    {
     "data": {
      "text/plain": [
       "<matplotlib.image.AxesImage at 0x1f56be70220>"
      ]
     },
     "execution_count": 82,
     "metadata": {},
     "output_type": "execute_result"
    },
    {
     "data": {
      "image/png": "[encoded data removed]",
      "text/plain": [
       "<Figure size 640x480 with 1 Axes>"
      ]
     },
     "metadata": {},
     "output_type": "display_data"
    }
   ],
   "source": [
    "topil = transforms.ToPILImage()(tensor_data)\n",
    "print(type(topil))\n",
    "plt.imshow(topil)"
   ]
  },
  {
   "cell_type": "markdown",
   "metadata": {},
   "source": [
    "### Q19"
   ]
  },
  {
   "cell_type": "code",
   "execution_count": null,
   "metadata": {},
   "outputs": [],
   "source": [
    "transform = transforms.Compose([\n",
    "    transforms.ToTensor(),\n",
    "    transforms.Normalize((0.5, 0.5, 0.5), (0.5, 0.5, 0.5))\n",
    "])\n",
    "Cifar10_train = torchvision.datasets.CIFAR10(root='./data', train=True, download=False, transform=transform)\n",
    "Cifar10_test = torchvision.datasets.CIFAR10(root='./data', train=False, download=False, transform=transform)\n",
    "\n",
    "def timeit(func):\n",
    "    def wrapper(*args, **kwargs):\n",
    "        start = time.time()\n",
    "        result = func(*args, **kwargs)\n",
    "        print(time.time() - start)\n",
    "        return result\n",
    "    return wrapper\n",
    "\n",
    "def test_time(dataset, batch_list=None, worker_list=None, test_pin = False):\n",
    "    \n",
    "    @timeit\n",
    "    def time_running(dataset, batch=64, num_workers=0, pin_memory=False):\n",
    "        try:\n",
    "            dataloader = DataLoader(dataset=dataset,\n",
    "                                    batch_size=batch,\n",
    "                                    num_workers=num_workers,\n",
    "                                    pin_memory=pin_memory)    \n",
    "            for batch in dataloader:\n",
    "                pass\n",
    "            \n",
    "        except Exception as e:\n",
    "            print(f\"Error: {e}\")\n",
    "        \n",
    "    if batch_list:    \n",
    "        for batch in batch_list:\n",
    "            print(f\"batch of {batch}:\", end=' ')\n",
    "            time_running(dataset, batch=batch)\n",
    "            \n",
    "    elif worker_list:\n",
    "        for num in worker_list:\n",
    "            print(f\"num_workers of {num}:\", end=' ')\n",
    "            time_running(dataset, num_workers=num)\n",
    "            \n",
    "    elif test_pin:\n",
    "        print(f\"pin_memory if True:\", end=' ')\n",
    "        time_running(dataset, pin_memory=True)\n",
    "        print(f'pin_memory if False:', end=' ')\n",
    "        time_running(dataset, pin_memory=False)\n"
   ]
  },
  {
   "cell_type": "code",
   "execution_count": null,
   "metadata": {},
   "outputs": [
    {
     "name": "stdout",
     "output_type": "stream",
     "text": [
      "batch of 1: 7.446024179458618\n",
      "batch of 4: 6.033214807510376\n",
      "batch of 64: 5.385905027389526\n",
      "batch of 1024: 5.665543079376221\n"
     ]
    }
   ],
   "source": [
    "# test difference between batch size\n",
    "test_time(Cifar10_train, batch_list=[1, 4, 64, 1024])"
   ]
  },
  {
   "cell_type": "code",
   "execution_count": 26,
   "metadata": {},
   "outputs": [
    {
     "name": "stdout",
     "output_type": "stream",
     "text": [
      "num_workers of 0: 5.741513013839722\n",
      "num_workers of 1: 7.366116523742676\n",
      "num_workers of 4: 7.922229051589966\n",
      "num_workers of 16: 26.429657220840454\n"
     ]
    }
   ],
   "source": [
    "# test difference between num_workers\n",
    "# dont use any library function in '__getitem__' when create dataset to avoid Running frozen error\n",
    "test_time(Cifar10_train, worker_list=[0, 1, 4, 16])"
   ]
  },
  {
   "cell_type": "code",
   "execution_count": 27,
   "metadata": {},
   "outputs": [
    {
     "name": "stdout",
     "output_type": "stream",
     "text": [
      "pin_memory if True: 5.285048723220825\n",
      "pin_memory if False: 5.527175188064575\n"
     ]
    }
   ],
   "source": [
    "# test difference using pin_memory or not\n",
    "test_time(Cifar10_train, test_pin=True)"
   ]
  },
  {
   "cell_type": "markdown",
   "metadata": {},
   "source": [
    "- 这里的提速效果不明显，可能是数据集不够大 or 电脑性能不咋地的原因..\n",
    "- 所以这里没有明显提速，但是可以明显感觉到使用多进程读取数据会使得程序运行速度变慢，因为内存有限，worker太多会反复换线。\n",
    "- batch设太大加速不明显，估计也是内存问题了"
   ]
  },
  {
   "cell_type": "markdown",
   "metadata": {},
   "source": [
    "### Q20"
   ]
  },
  {
   "cell_type": "code",
   "execution_count": 31,
   "metadata": {},
   "outputs": [
    {
     "name": "stdout",
     "output_type": "stream",
     "text": [
      "(50000, 32, 32, 3)\n",
      "mean = [125.306918046875, 122.950394140625, 113.86538318359375] \n",
      " std = [62.993219278136884, 62.08870764001421, 66.70489964063091]\n"
     ]
    }
   ],
   "source": [
    "Cifar10_train = torchvision.datasets.CIFAR10(root='./data', train=True, download=False)\n",
    "print(Cifar10_train.data.data.shape)\n",
    "\n",
    "mean = [np.mean(Cifar10_train.data[:, :, :, i]) for i in range(3)]\n",
    "std = [np.std(Cifar10_train.data[:, :, :, i]) for i in range(3)]\n",
    "print(f'mean = {mean} \\n std = {std}')"
   ]
  },
  {
   "cell_type": "markdown",
   "metadata": {},
   "source": [
    "### Q21"
   ]
  },
  {
   "cell_type": "code",
   "execution_count": 53,
   "metadata": {},
   "outputs": [
    {
     "data": {
      "text/plain": [
       "<matplotlib.image.AxesImage at 0x24a3efc8280>"
      ]
     },
     "execution_count": 53,
     "metadata": {},
     "output_type": "execute_result"
    },
    {
     "data": {
      "image/png": "[encoded data removed]",
      "text/plain": [
       "<Figure size 640x480 with 1 Axes>"
      ]
     },
     "metadata": {},
     "output_type": "display_data"
    }
   ],
   "source": [
    "img = Image.open('kun.jpg')\n",
    "img = img.resize((150, 150))\n",
    "width, height = img.size\n",
    "greys = np.zeros((width, height))\n",
    "for x in range(width):\n",
    "    for y in range(height):\n",
    "        r, g, b = img.getpixel((x, y))\n",
    "        converted = 0.2126 * r + 0.7152 * g + 0.0722 * b\n",
    "        greys[y, x] = converted\n",
    "plt.imshow(greys, cmap='gray')"
   ]
  },
  {
   "cell_type": "code",
   "execution_count": 54,
   "metadata": {},
   "outputs": [],
   "source": [
    "characters = \"Ñ@#W$9876543210?!abc;:+=-,._ \"\n",
    "greys_ch = ((greys / 255) * (len(characters) - 1)).astype(int)\n",
    "# np.max(greys_ch)\n",
    "char_img = ''\n",
    "for x in range(width):\n",
    "    for y in range(height):\n",
    "        char_img += characters[greys_ch[x, y]]\n",
    "    char_img += '\\n'\n",
    "\n",
    "with open('char_kun.txt', 'w') as f:\n",
    "    f.write(char_img)"
   ]
  },
  {
   "cell_type": "markdown",
   "metadata": {},
   "source": [
    "### Q22"
   ]
  },
  {
   "cell_type": "markdown",
   "metadata": {},
   "source": [
    "#### Q22.1"
   ]
  },
  {
   "cell_type": "code",
   "execution_count": 3,
   "metadata": {},
   "outputs": [
    {
     "data": {
      "text/plain": [
       "array([[0.33306377, 0.82891861],\n",
       "       [0.63069257, 0.59228528],\n",
       "       [1.05355857, 1.17849968],\n",
       "       [0.37687855, 0.32408711],\n",
       "       [0.89494981, 0.39730617],\n",
       "       [1.06387491, 0.35324401],\n",
       "       [0.45225698, 0.28687018],\n",
       "       [0.42459471, 0.70159548],\n",
       "       [0.88663531, 0.5206293 ],\n",
       "       [0.32616581, 0.22591875]])"
      ]
     },
     "execution_count": 3,
     "metadata": {},
     "output_type": "execute_result"
    }
   ],
   "source": [
    "# Consider a random 10x2 matrix representing cartesian coordinates, convert them to polar coordinates\n",
    "matrix = np.random.rand(10,2)\n",
    "def cal_radius(x, y):\n",
    "    return np.sqrt(x**2 + y**2)\n",
    "\n",
    "def cal_theta(x, y):\n",
    "    return np.arctan2(y, x)\n",
    "\n",
    "radius = cal_radius(matrix[:,0], matrix[:,1]).reshape(-1,1)\n",
    "theta = cal_theta(matrix[:,0], matrix[:,1]).reshape(-1,1)\n",
    "output = np.concatenate([radius, theta], axis=-1)\n",
    "output"
   ]
  },
  {
   "cell_type": "code",
   "execution_count": null,
   "metadata": {},
   "outputs": [
    {
     "data": {
      "image/png": "[encoded data removed]",
      "text/plain": [
       "<Figure size 640x480 with 1 Axes>"
      ]
     },
     "metadata": {},
     "output_type": "display_data"
    }
   ],
   "source": [
    "y_h = output[:,0] * np.sin(output[:,1])\n",
    "x_h = output[:,0] * np.cos(output[:,1])\n",
    "plt.scatter(x_h, y_h,c='b',label='hypothesis')\n",
    "plt.scatter(matrix[:,0], matrix[:,1],label='original')\n",
    "plt.legend(loc='upper left')\n",
    "plt.show()\n",
    "# 完全重合"
   ]
  },
  {
   "cell_type": "markdown",
   "metadata": {},
   "source": [
    "#### Q22.2"
   ]
  },
  {
   "cell_type": "code",
   "execution_count": null,
   "metadata": {},
   "outputs": [
    {
     "data": {
      "text/plain": [
       "SymmetricArray([[0.89607087, 0.05400943, 0.46248297],\n",
       "                [0.05400943, 0.74377657, 0.51297465],\n",
       "                [0.46248297, 0.51297465, 0.65654645]])"
      ]
     },
     "execution_count": 29,
     "metadata": {},
     "output_type": "execute_result"
    }
   ],
   "source": [
    "# Create a 2D array subclass such that Z[i, j] == Z[j, i]\n",
    "\n",
    "class SymmetricArray(np.ndarray):\n",
    "    def __new__(cls, shape, dtype=float):\n",
    "        obj = super().__new__(cls, shape, dtype)\n",
    "        random_data = np.random.rand(*shape)\n",
    "        \n",
    "        random_data = (random_data + random_data.T) / 2  \n",
    "        np.copyto(obj, random_data)     # 防止改掉obj再次new时的默认值\n",
    "        \n",
    "        return obj\n",
    "    \n",
    "    def __setitem__(self, index, value):\n",
    "        i, j = index\n",
    "        super(SymmetricArray, self).__setitem__((i, j), value)\n",
    "        super(SymmetricArray, self).__setitem__((j, i), value)\n",
    "\n",
    "    def __getitem__(self, index):\n",
    "        i, j = index\n",
    "        return super(SymmetricArray, self).__getitem__((i, j))\n",
    "\n",
    "matrix = SymmetricArray((3,3))\n",
    "matrix"
   ]
  },
  {
   "cell_type": "code",
   "execution_count": 30,
   "metadata": {},
   "outputs": [
    {
     "data": {
      "text/plain": [
       "SymmetricArray([[0.89607087, 1.        , 0.46248297],\n",
       "                [1.        , 0.74377657, 0.51297465],\n",
       "                [0.46248297, 0.51297465, 0.65654645]])"
      ]
     },
     "execution_count": 30,
     "metadata": {},
     "output_type": "execute_result"
    }
   ],
   "source": [
    "matrix[0,1] = 1\n",
    "matrix"
   ]
  },
  {
   "cell_type": "markdown",
   "metadata": {},
   "source": [
    "#### Q22.3"
   ]
  },
  {
   "cell_type": "code",
   "execution_count": 4,
   "metadata": {},
   "outputs": [
    {
     "data": {
      "text/plain": [
       "(None, None, None)"
      ]
     },
     "execution_count": 4,
     "metadata": {},
     "output_type": "execute_result"
    }
   ],
   "source": [
    "# Consider 2 sets of points P0, P1 describing lines (2d) and a set of points P, how to compute distance\n",
    "# from each point j (P[j]) to each line i (P0[i],P1[i])\n",
    "def cal_line(p1,p2):\n",
    "    if p1[0] == p2[0]:\n",
    "        w = np.inf\n",
    "        b = p1[0]\n",
    "    else:\n",
    "        w = (p1[1] - p2[1]) / (p1[0] - p2[0])\n",
    "        b = p1[1] - w * p1[0]\n",
    "    return w, b\n",
    "\n",
    "def cal_distance(p, line):\n",
    "    w, b = line\n",
    "    return abs(w * p[0] - p[1] + b) / np.sqrt(w**2 + 1)\n",
    "\n",
    "def solution(P, P0, P1):\n",
    "    distance = []\n",
    "    for i in range(len(P)):\n",
    "        for j in range(len(P0)):\n",
    "            w,b = cal_line(P0[j], P1[j])\n",
    "            if w != np.inf:\n",
    "                distance.append(cal_distance(P[i], [w,b]))\n",
    "            else:\n",
    "                distance.append(abs(P[i][0] - b))\n",
    "    return distance\n",
    "\n",
    "datasize = (10,2)\n",
    "P0_samples = create_data(-10, 10, datasize, type='int')\n",
    "P1_samples = create_data(-10, 10, datasize, type='int')\n",
    "P_samples = create_data(-10, 10,datasize, type='int')\n",
    "np.random.shuffle(P0_samples), np.random.shuffle(P1_samples), np.random.shuffle(P_samples)"
   ]
  },
  {
   "cell_type": "code",
   "execution_count": null,
   "metadata": {},
   "outputs": [
    {
     "data": {
      "text/plain": [
       "array([[  2,   6],\n",
       "       [ -8,   6],\n",
       "       [  6,   4],\n",
       "       [ -8,  -5],\n",
       "       [-10,  -8],\n",
       "       [ -1,  -9],\n",
       "       [  1,   3],\n",
       "       [ -3,  -7],\n",
       "       [ -7,   2],\n",
       "       [ -8,   4]])"
      ]
     },
     "execution_count": 28,
     "metadata": {},
     "output_type": "execute_result"
    }
   ],
   "source": [
    "'''plt.scatter(P_samples[:,0], P_samples[:,1],c='b',label='P')\n",
    "plt.scatter(P0_samples[:,0], P0_samples[:,1],c='r',label='P0')\n",
    "plt.scatter(P1_samples[:,0], P1_samples[:,1],c='g',label='P1')\n",
    "plt.legend(loc='upper left')\n",
    "plt.show()'''\n",
    "P0_samples"
   ]
  },
  {
   "cell_type": "code",
   "execution_count": null,
   "metadata": {},
   "outputs": [
    {
     "name": "stdout",
     "output_type": "stream",
     "text": [
      "3.4729725684978368 [7 9] [7 5] [-7 -3]\n",
      "3.4729725684978368\n"
     ]
    }
   ],
   "source": [
    "distance = solution(P_samples, P0_samples, P1_samples)\n",
    "p,p0,p1 = P_samples[0], P0_samples[0], P1_samples[0]\n",
    "w,b = cal_line(p0,p1)\n",
    "d = cal_distance(p, [w,b])\n",
    "print(distance[0],P_samples[0],P0_samples[0],P1_samples[0])\n",
    "print(d)"
   ]
  },
  {
   "cell_type": "markdown",
   "metadata": {},
   "source": [
    "### Q23"
   ]
  },
  {
   "cell_type": "code",
   "execution_count": null,
   "metadata": {},
   "outputs": [
    {
     "data": {
      "text/plain": [
       "array([[14, 18, 13, 17, 17],\n",
       "       [17, 12, 16, 19, 13],\n",
       "       [18, 18, 12, 18, 11],\n",
       "       [18, 16, 11, 14, 12],\n",
       "       [17, 19, 17, 18, 10]])"
      ]
     },
     "execution_count": 61,
     "metadata": {},
     "output_type": "execute_result"
    }
   ],
   "source": [
    "# ...套公式\n",
    "def bilinear_interpolation(ori_matrix, p):\n",
    "    p[0] -= 1\n",
    "    p[1] -= 1\n",
    "    x, y, x_f, y_f = int(p[0]), int(p[1]), p[0] - int(p[0]), p[1] - int(p[1])\n",
    "    x1, x2 = x, min(x + 1, len(ori_matrix) - 1)\n",
    "    y1, y2 = y, min(y + 1, len(ori_matrix[0]) - 1)\n",
    "    \n",
    "    return ((1-x_f) * (1-y_f) * ori_matrix[x1,y1]\n",
    "            + (1-x_f) * y_f * ori_matrix[x1,y2]\n",
    "            + x_f * (1-y_f) * ori_matrix[x2,y1]\n",
    "            + x_f * y_f * ori_matrix[x2,y2])\n",
    "\n",
    "datasize = (5,5)\n",
    "sample = create_data(10, 20, datasize, type='int')\n",
    "sample"
   ]
  },
  {
   "cell_type": "code",
   "execution_count": 62,
   "metadata": {},
   "outputs": [
    {
     "data": {
      "text/plain": [
       "(14.5, 14)"
      ]
     },
     "execution_count": 62,
     "metadata": {},
     "output_type": "execute_result"
    }
   ],
   "source": [
    "bilinear_interpolation(sample, [2.5, 2.5]), bilinear_interpolation(sample, [1, 1])"
   ]
  },
  {
   "cell_type": "code",
   "execution_count": null,
   "metadata": {},
   "outputs": [
    {
     "data": {
      "text/plain": [
       "(275.0, 110)"
      ]
     },
     "execution_count": 63,
     "metadata": {},
     "output_type": "execute_result"
    }
   ],
   "source": [
    "A =np.array([\n",
    "    [110, 120, 130],\n",
    "    [210, 220, 230],\n",
    "    [310, 320, 330],\n",
    "    ])\n",
    "bilinear_interpolation(A, [2.5, 2.5]), bilinear_interpolation(A, [1, 1])"
   ]
  },
  {
   "cell_type": "markdown",
   "metadata": {},
   "source": [
    "### Q24"
   ]
  },
  {
   "cell_type": "code",
   "execution_count": null,
   "metadata": {},
   "outputs": [
    {
     "name": "stderr",
     "output_type": "stream",
     "text": [
      "C:\\Users\\35135\\AppData\\Local\\Temp\\ipykernel_29428\\2749210580.py:14: VisibleDeprecationWarning: Creating an ndarray from ragged nested sequences (which is a list-or-tuple of lists-or-tuples-or ndarrays with different lengths or shapes) is deprecated. If you meant to do this, you must specify 'dtype=object' when creating the ndarray.\n",
      "  samples = np.array([np.array([1,2,3]),np.array([4,5]),np.array([6,7])])\n"
     ]
    },
    {
     "data": {
      "text/plain": [
       "array([[1, 4, 6],\n",
       "       [2, 4, 6],\n",
       "       [3, 4, 6],\n",
       "       [1, 5, 6],\n",
       "       [2, 5, 6],\n",
       "       [3, 5, 6],\n",
       "       [1, 4, 7],\n",
       "       [2, 4, 7],\n",
       "       [3, 4, 7],\n",
       "       [1, 5, 7],\n",
       "       [2, 5, 7],\n",
       "       [3, 5, 7]])"
      ]
     },
     "execution_count": 34,
     "metadata": {},
     "output_type": "execute_result"
    }
   ],
   "source": [
    "# 递归 + 利用np去循环化\n",
    "def cartesian_product(v):\n",
    "    if len(v) == 1:\n",
    "        return v[0][:, None]\n",
    "    \n",
    "    sub_result = cartesian_product(v[:-1])\n",
    "    sub_shape = sub_result.shape[0]\n",
    "    sub_result = np.tile(sub_result, (len(v[-1]), 1))\n",
    "    \n",
    "    p = np.repeat(v[-1], sub_shape)[:, None]\n",
    "    \n",
    "    return np.concatenate((sub_result, p), axis=1)\n",
    "\n",
    "# samples = create_data(1, 50, (3,2), type='int')\n",
    "samples = np.array([np.array([1,2,3]),np.array([4,5]),np.array([6,7])])\n",
    "cartesian_product(samples)"
   ]
  },
  {
   "cell_type": "markdown",
   "metadata": {},
   "source": [
    "### Q25"
   ]
  },
  {
   "cell_type": "code",
   "execution_count": null,
   "metadata": {},
   "outputs": [],
   "source": [
    "def extract_submatrix(M, position, shape, fill=0):\n",
    "    height, width = shape\n",
    "    y, x = position\n",
    "    \n",
    "    top = y - height // 2\n",
    "    left = x - width // 2\n",
    "    \n",
    "    subarray = np.full(shape, fill)\n",
    "    \n",
    "    for i in range(height):\n",
    "        for j in range(width):\n",
    "            ori_i = top + i\n",
    "            ori_j = left + j\n",
    "            \n",
    "            if 0 <= ori_i < M.shape[0] and 0 <= ori_j < M.shape[1]:\n",
    "                subarray[i, j] = M[ori_i, ori_j]\n",
    "    \n",
    "    return subarray"
   ]
  },
  {
   "cell_type": "code",
   "execution_count": 31,
   "metadata": {},
   "outputs": [
    {
     "name": "stdout",
     "output_type": "stream",
     "text": [
      "[[13 14 15  0]\n",
      " [18 19 20  0]\n",
      " [23 24 25  0]\n",
      " [ 0  0  0  0]]\n"
     ]
    }
   ],
   "source": [
    "array = np.array([\n",
    "    [ 1,  2,  3,  4,  5],\n",
    "    [ 6,  7,  8,  9, 10],\n",
    "    [11, 12, 13, 14, 15],\n",
    "    [16, 17, 18, 19, 20],\n",
    "    [21, 22, 23, 24, 25],\n",
    "    ])\n",
    "\n",
    "center = (4, 4)\n",
    "shape = (4, 4)\n",
    "fill_value = 0\n",
    "\n",
    "subarray = extract_submatrix(array, center, shape, fill_value)\n",
    "print(subarray)"
   ]
  },
  {
   "cell_type": "markdown",
   "metadata": {},
   "source": [
    "### Q26"
   ]
  },
  {
   "cell_type": "code",
   "execution_count": null,
   "metadata": {},
   "outputs": [],
   "source": [
    "class Matrix_operator:\n",
    "    \n",
    "    @classmethod\n",
    "    def add(cls, a, b):\n",
    "        shape_a = (len(a),len(a[0]))\n",
    "        shape_b = (len(b),len(b[0]))\n",
    "        assert shape_a == shape_b, \"Shape not match\"\n",
    "        \n",
    "        return [[a[i][j] + b[i][j] for j in range(len(a[0]))] for i in range(len(a))]\n",
    "\n",
    "    @classmethod\n",
    "    def substract(cls, a, b):\n",
    "        shape_a = (len(a),len(a[0]))\n",
    "        shape_b = (len(b),len(b[0]))\n",
    "        assert shape_a == shape_b, \"Shape not match\"\n",
    "        \n",
    "        return [[a[i][j] - b[i][j] for j in range(len(a[0]))] for i in range(len(a))]\n",
    "\n",
    "    @classmethod\n",
    "    def scalar_multiply(cls, a, num):\n",
    "        return [[a[i][j] * num for j in range(len(a[0]))] for i in range(len(a))]\n",
    "\n",
    "    @classmethod\n",
    "    def multiply(cls, a, b):\n",
    "        shape_a = (len(a),len(a[0]))\n",
    "        shape_b = (len(b),len(b[0]))\n",
    "        assert shape_a[1] == shape_b[0], \"Shape not match\"\n",
    "        \n",
    "        return [[sum(a[i][k] * b[k][j] for k in range(len(a[0]))) for j in range(len(b[0]))] for i in range(len(a))]\n",
    "    \n",
    "    @classmethod\n",
    "    def identity(cls, num):\n",
    "        return [[1 if i == j else 0 for j in range(num)] for i in range(num)]\n",
    "    \n",
    "    @classmethod\n",
    "    def transpose(cls, a):\n",
    "        return [[a[j][i] for j in range(len(a))] for i in range(len(a[0]))]\n",
    "    \n",
    "    @classmethod\n",
    "    def inverse(cls, a):\n",
    "        assert len(a) == len(a[0]), \"Shape not match\"\n",
    "        identity_matrix = cls.identity(len(a))\n",
    "\n",
    "        matrix = [row_a + row_id for row_a, row_id in zip(a, identity_matrix)]\n",
    "        \n",
    "        n = len(a)\n",
    "        \n",
    "        # 一层一层消元\n",
    "        for i in range(n):\n",
    "            if matrix[i][i] == 0:\n",
    "                for k in range(i + 1, n):\n",
    "                    if matrix[k][i] != 0:\n",
    "                        matrix[i], matrix[k] = matrix[k], matrix[i]\n",
    "                        break\n",
    "                else:\n",
    "                    raise ValueError(\"Matrix is not invertible\")\n",
    "\n",
    "            to_normal = matrix[i][i]\n",
    "            matrix[i] = [x / to_normal for x in matrix[i]]\n",
    "\n",
    "            for j in range(n):\n",
    "                if j != i:\n",
    "                    to_sub = matrix[j][i]\n",
    "                    matrix[j] = [x - to_sub * y for x, y in zip(matrix[j], matrix[i])]\n",
    "\n",
    "        inverse_matrix = [line[n:] for line in matrix]\n",
    "        \n",
    "        return inverse_matrix\n",
    "            \n",
    "    "
   ]
  },
  {
   "cell_type": "code",
   "execution_count": 43,
   "metadata": {},
   "outputs": [
    {
     "name": "stdout",
     "output_type": "stream",
     "text": [
      "add(matrix_a, matrix_b) ==  [[15, 14], [10, 13]]\n",
      "substract(matrix_a, matrix_b) ==  [[9, 6], [-4, 5]]\n",
      "scalar_multiply(matrix_b, 3) ==  [[9, 12], [21, 12]]\n",
      "multiply(matrix_a, matrix_b) ==  [[106, 88], [72, 48]]\n",
      "identity(3) ==  [[1, 0, 0], [0, 1, 0], [0, 0, 1]]\n",
      "transpose(matrix_c) ==  [[11, 21, 31, 41], [12, 22, 32, 42], [13, 23, 33, 43], [14, 24, 34, 44]]\n",
      "inverse(matrix_d) ==  [[0.19999999999999998, 0.2, 0.0], [-0.2, 0.30000000000000004, 1.0], [0.2, -0.30000000000000004, -0.0]]\n"
     ]
    }
   ],
   "source": [
    "matrix_a = [[12, 10], [3, 9]]\n",
    "matrix_b = [[3, 4], [7, 4]]\n",
    "matrix_c = [[11, 12, 13, 14], [21, 22, 23, 24], [31, 32, 33, 34], [41, 42, 43, 44]]\n",
    "matrix_d = [[3, 0, 2], [2, 0, -2], [0, 1, 1]]\n",
    "print('add(matrix_a, matrix_b) == ', Matrix_operator.add(matrix_a, matrix_b))\n",
    "print('substract(matrix_a, matrix_b) == ', Matrix_operator.substract(matrix_a, matrix_b))\n",
    "print('scalar_multiply(matrix_b, 3) == ', Matrix_operator.scalar_multiply(matrix_b, 3))\n",
    "print('multiply(matrix_a, matrix_b) == ', Matrix_operator.multiply(matrix_a, matrix_b))\n",
    "print('identity(3) == ', Matrix_operator.identity(3))\n",
    "print('transpose(matrix_c) == ', Matrix_operator.transpose(matrix_c))\n",
    "print('inverse(matrix_d) == ', Matrix_operator.inverse(matrix_d))"
   ]
  },
  {
   "cell_type": "markdown",
   "metadata": {},
   "source": [
    "### Q27"
   ]
  },
  {
   "cell_type": "code",
   "execution_count": 7,
   "metadata": {},
   "outputs": [
    {
     "data": {
      "text/plain": [
       "(1, 3, 2, 3)"
      ]
     },
     "execution_count": 7,
     "metadata": {},
     "output_type": "execute_result"
    }
   ],
   "source": [
    "np.gcd(3, 5), np.gcd(6,3), np.gcd(-2,6), np.gcd(0, 3)"
   ]
  },
  {
   "cell_type": "code",
   "execution_count": 29,
   "metadata": {},
   "outputs": [
    {
     "data": {
      "text/plain": [
       "(1, 3, 2, 3, 0, 3, 2)"
      ]
     },
     "execution_count": 29,
     "metadata": {},
     "output_type": "execute_result"
    }
   ],
   "source": [
    "# 辗转相除法\n",
    "def gcd(x1,x2):\n",
    "    x1,x2 = abs(x1), abs(x2)\n",
    "    if not (x1 and x2):\n",
    "        return x1 or x2\n",
    "    else:\n",
    "        return gcd(x2, x1 % x2)\n",
    "    \n",
    "gcd(3,5), gcd(6,3), gcd(-2,6), gcd(0, 3), gcd(0, 0), gcd(3,0), gcd(2,-6)"
   ]
  },
  {
   "cell_type": "markdown",
   "metadata": {},
   "source": [
    "### Q28"
   ]
  },
  {
   "cell_type": "code",
   "execution_count": 25,
   "metadata": {},
   "outputs": [],
   "source": [
    "# 二分搜索 + 边界截断 O(nlogn)\n",
    "# yi\n",
    "def Find_num_sequence(n):\n",
    "    def partialbinary_search(n_range, windowsize, target_sum):\n",
    "        low, high = n_range\n",
    "        partial_mid = (low + high) // 2\n",
    "        \n",
    "        while low <= high:\n",
    "            if partial_mid < windowsize:\n",
    "                low = partial_mid + 1\n",
    "                partial_mid = (low + high) // 2\n",
    "                continue\n",
    "            \n",
    "            sum_ = ((2 * partial_mid - windowsize + 1) * windowsize) / 2\n",
    "            \n",
    "            if sum_ == target_sum:\n",
    "                return list(range(partial_mid - windowsize + 1, partial_mid + 1))\n",
    "            elif sum_ > target_sum:\n",
    "                high = partial_mid - 1\n",
    "            else:\n",
    "                low = partial_mid + 1\n",
    "                \n",
    "            partial_mid = (low + high) // 2\n",
    "            \n",
    "        if partial_mid < windowsize:\n",
    "            return -1\n",
    "        return None\n",
    "           \n",
    "    result = []\n",
    "    highest = n\n",
    "    \n",
    "    for windowsize in range(1, n+1):\n",
    "        o = partialbinary_search((1, highest), windowsize, n)\n",
    "        if o == -1:\n",
    "            return result\n",
    "        elif o is not None:\n",
    "            result.append(o)\n",
    "            highest = o[-1] - 1\n",
    "            \n",
    "    return result\n",
    "\n",
    "# 方程法, O(n)\n",
    "def math_research(n):\n",
    "    result = []\n",
    "\n",
    "    for i in range(1, n + 1):\n",
    "        a = n / i - (i - 1) / 2\n",
    "        \n",
    "        if a.is_integer() and a > 0:\n",
    "            if i % 2 == 1:\n",
    "                if n % i == 0:\n",
    "                    result.append([int(a+j) for j in range(i)])\n",
    "            else:\n",
    "                if (n / i) % 1 == 0.5:\n",
    "                    result.append([int(a+j) for j in range(i)])\n",
    "    \n",
    "    return result"
   ]
  },
  {
   "cell_type": "code",
   "execution_count": 97,
   "metadata": {},
   "outputs": [
    {
     "data": {
      "text/plain": [
       "([[15], [7, 8], [4, 5, 6], [1, 2, 3, 4, 5]],\n",
       " [[15], [7, 8], [4, 5, 6], [1, 2, 3, 4, 5]])"
      ]
     },
     "execution_count": 97,
     "metadata": {},
     "output_type": "execute_result"
    }
   ],
   "source": [
    "Find_num_sequence(15), math_research(15)"
   ]
  },
  {
   "cell_type": "code",
   "execution_count": 102,
   "metadata": {},
   "outputs": [
    {
     "data": {
      "text/plain": [
       "([[100], [18, 19, 20, 21, 22], [9, 10, 11, 12, 13, 14, 15, 16]],\n",
       " [[100], [18, 19, 20, 21, 22], [9, 10, 11, 12, 13, 14, 15, 16]],\n",
       " 100)"
      ]
     },
     "execution_count": 102,
     "metadata": {},
     "output_type": "execute_result"
    }
   ],
   "source": [
    "Find_num_sequence(100), math_research(100), sum([9, 10, 11, 12, 13, 14, 15, 16])"
   ]
  },
  {
   "cell_type": "code",
   "execution_count": 28,
   "metadata": {},
   "outputs": [
    {
     "name": "stdout",
     "output_type": "stream",
     "text": [
      "[[1000], [198, 199, 200, 201, 202], [55, 56, 57, 58, 59, 60, 61, 62, 63, 64, 65, 66, 67, 68, 69, 70], [28, 29, 30, 31, 32, 33, 34, 35, 36, 37, 38, 39, 40, 41, 42, 43, 44, 45, 46, 47, 48, 49, 50, 51, 52]] \n",
      " [[1000], [198, 199, 200, 201, 202], [55, 56, 57, 58, 59, 60, 61, 62, 63, 64, 65, 66, 67, 68, 69, 70], [28, 29, 30, 31, 32, 33, 34, 35, 36, 37, 38, 39, 40, 41, 42, 43, 44, 45, 46, 47, 48, 49, 50, 51, 52]]\n"
     ]
    }
   ],
   "source": [
    "print(Find_num_sequence(1000), '\\n', math_research(1000))"
   ]
  },
  {
   "cell_type": "code",
   "execution_count": null,
   "metadata": {},
   "outputs": [],
   "source": []
  },
  {
   "cell_type": "markdown",
   "metadata": {},
   "source": [
    "- conclution:  \n",
    "    - 两种方法都可以找到满足条件的序列，但方程法更简洁，且时间复杂度更低\n",
    "    - 查找法应该还没剪枝到最优"
   ]
  },
  {
   "cell_type": "markdown",
   "metadata": {},
   "source": []
  }
 ],
 "metadata": {
  "kernelspec": {
   "display_name": "base",
   "language": "python",
   "name": "python3"
  },
  "language_info": {
   "codemirror_mode": {
    "name": "ipython",
    "version": 3
   },
   "file_extension": ".py",
   "mimetype": "text/x-python",
   "name": "python",
   "nbconvert_exporter": "python",
   "pygments_lexer": "ipython3",
   "version": "3.10.9"
  }
 },
 "nbformat": 4,
 "nbformat_minor": 2
}
